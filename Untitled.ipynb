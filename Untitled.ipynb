{
 "cells": [
  {
   "cell_type": "code",
   "execution_count": 2,
   "id": "834ec1fd",
   "metadata": {},
   "outputs": [],
   "source": [
    "import selenium\n",
    "from selenium import webdriver\n",
    "import time\n",
    "import os\n",
    "from selenium import webdriver\n",
    "from selenium.webdriver.chrome.options import Options\n",
    "from selenium.webdriver.common.desired_capabilities import DesiredCapabilities\n"
   ]
  },
  {
   "cell_type": "code",
   "execution_count": 3,
   "id": "d1669ac9",
   "metadata": {},
   "outputs": [],
   "source": [
    "chrome_options = Options()\n",
    "chrome_options.add_argument(\"--headless\")  # Run in headless mode\n",
    "\n",
    "\n",
    "# Set desired capabilities to enable network monitoring\n",
    "capabilities = DesiredCapabilities.CHROME.copy()\n",
    "capabilities['goog:loggingPrefs'] = {'performance': 'ALL'}\n",
    "\n",
    "# Create a WebDriver instance with desired capabilities\n",
    "driver = webdriver.Chrome(desired_capabilities=capabilities, options=chrome_options)"
   ]
  },
  {
   "cell_type": "code",
   "execution_count": 6,
   "id": "71bd0f48",
   "metadata": {},
   "outputs": [],
   "source": [
    "driver.get(\"https://vidsrc.me/embed/tt5433140/\")"
   ]
  },
  {
   "cell_type": "code",
   "execution_count": 7,
   "id": "4f7bf851",
   "metadata": {},
   "outputs": [
    {
     "data": {
      "text/plain": [
       "'<html><head>\\n<title>Fast X</title>\\n<meta http-equiv=\"Content-Type\" content=\"text/html; charset=UTF-8\">\\n<meta name=\"viewport\" content=\"width=device-width, initial-scale=1\">\\n<link rel=\"stylesheet\" href=\"//cdnjs.cloudflare.com/ajax/libs/font-awesome/5.12.0-2/css/all.min.css\" integrity=\"\" crossorigin=\"anonymous\">\\n<link rel=\"stylesheet\" href=\"/style.css?t=1688387834\">\\n<style>\\n    \\n    \\n    .mctitle a {\\n        font-size:1em !important;\\n    }\\n    \\n    #AdWidgetContainer {\\n        position: fixed !important;\\n        transition: transform 1s linear 0s !important; \\n        opacity: 1 !important; \\n        transform: translate(0px, 0px) !important;\\n    }\\n    \\n    \\n    #ad720 {\\n        width: 100%;\\n        position: absolute;\\n        bottom: 0;\\n        display: flex;\\n        align-items: center;\\n        justify-content: center;\\n        color: white;\\n    }\\n    \\n    #ad720 .ad_container {\\n        max-width: 720px;\\n        position: relative;\\n    }\\n    #ad720 .ad_container img {\\n        width: 100%;\\n        height: auto;\\n    }\\n    #ad720 .ad_container #close {\\n        position: absolute;\\n        top: 3px;\\n        right: 3px;\\n        color: white;\\n        opacity: 0.7;\\n    }\\n    \\n    #ad720 .ad_container #close:hover {\\n        opacity: 1;\\n        cursor: pointer;\\n    }\\n    \\n    \\n</style>\\n<script src=\"//e.dtscout.com/e/?v=1a&amp;pid=5200&amp;site=1&amp;l=https%3A%2F%2Fvidsrc.me%2Fembed%2Ftt5433140%2F&amp;j=\" async=\"\" type=\"text/javascript\"></script><script type=\"text/javascript\" async=\"\" src=\"https://www.google-analytics.com/analytics.js\"></script><script type=\"text/javascript\" async=\"\" src=\"https://www.googletagmanager.com/gtag/js?id=G-83E9YFTMBM&amp;l=dataLayer&amp;cx=c\"></script><script type=\"text/javascript\" async=\"\" src=\"//s10.histats.com/js15_as.js\"></script><script src=\"https://data-beacons.s-onetag.com/dataBeacons.min.js\"></script></head>\\n<body data-i=\"5433140\">\\n<div id=\"loading_overlay\"></div>\\n<div id=\"the_frame\" style=\"background-image: none;\">\\n<iframe id=\"player_iframe\" src=\"//rcp.vidsrc.me/rcp/MWM4OGQ2Y2FhOTI2NTQ3ZWUzYjhlZmIzZjMxYTY3YWE6Y2xreU4xSnRRV292TDI5WlNuWnVaVVl2VUU0MVEwVjZNVVIxUnpWelRuWnlaRlptV0RKbGFURjRUMVJMUkhwTEsyWlZibE5QU1hWV2JuWmhZa2RTVVZSbmNGSlNVVk12U1RkQ1ptZHBWMHBTVGxkSFJrWk9LMHRCT0doS05tMTJLMmNyVEN0R2EzVldNR3BzT0RWTE1qbEhOVzgwUlVSbFExaGlaRkZxUVRCeE9YTndVREV6UW1oaFNpczVabnBMWkVoalpXeERjSEp4TTAweVZWcDJOa3BZV1dOa1EzZFZMMGQxU0c1V01HMUVaVUkyZVhGd1J6RTNkREpvUjJ4U1dtaEZXR0pvY2xsemJFNDNRV0l4V0RNd1NETlNLMmRoVlRGclMwOTZUWHBvZFhjMWFrVjJVbTgzVmpJdk5XWXdSVEJMTlV4eFNVdDZWa3RQWjBGU1owaEJXRk0yY1RCUVptbFlRblYxVTJselZETnhialZQVm5wSlRsSk5VR2h3V21aSk1ETTJSREpGYVZoeFZ6WndOazl2UWxOYVNFeDBRblJxZGpWc09XbG1NVlIxYjJGd1kwOW5TVFJGYmtvMlNIWnJUa3h1V0cxSk4wVjNlRWhUZFhnNWJVUnpXVXczV2pSRlJHdEVhalptY0dnd1lYbzJOVmg1ZW01b01FVXJOU3Q0UVVsTFJ6WmhibGN3VGk5VmRuaFFPRWszTnpCR1QySk1SSEpYUW0wMmQzTXpWWEY2Wnk5TE1GZDVObFJIV2t0M1prdHhRbEJYUjFoSVRVOVFZVVJuYjNWV05XVkNjMHBFVDJoRGR6aDVjMVZxTVRGUFpsWk9TMWxLU0ZoNFZsRkxNMGgwT1ZCS1R6UjRjamRsT1dWTWRqWjBVMlkzWWxwU2JXdHBZWEZaWnlzMlNUWkpTM1J2YURSS1FsWmlWRXRLYUdnclJsSnNVQ3RoWVN0S1VGTlFTV1Y1VUdSME5ucENNR2RFUkRBNE15OU9UMWxtWlhselNqQTFkVlF4V1RsSFpHdGpaMkZzZFRBd1NqUjFVV1ZXV0VFdmR6MDk-\" frameborder=\"0\" scrolling=\"no\" allowfullscreen=\"yes\" style=\"height: 100%; width: 100%;\"></iframe>\\n</div>\\n<div id=\"top_buttons_parent\" style=\"\">\\n<div id=\"top_buttons\">\\n<div class=\"button\" id=\"source\"><i class=\"fas fa-server\"></i></div>\\n\\n<div class=\"button button_inactive\" id=\"report\"><i class=\"fas fa-exclamation-triangle\"></i></div>\\n</div>\\n</div>\\n<div class=\"button_content\" id=\"sources\">\\n<div id=\"content\">\\n<div id=\"title\">Choose source:</div>\\n<div class=\"close\"><i class=\"fas fa-window-close\"></i></div>\\n<div id=\"list\">\\n<div class=\"active_source source\" data-hash=\"MWM4OGQ2Y2FhOTI2NTQ3ZWUzYjhlZmIzZjMxYTY3YWE6Y2xreU4xSnRRV292TDI5WlNuWnVaVVl2VUU0MVEwVjZNVVIxUnpWelRuWnlaRlptV0RKbGFURjRUMVJMUkhwTEsyWlZibE5QU1hWV2JuWmhZa2RTVVZSbmNGSlNVVk12U1RkQ1ptZHBWMHBTVGxkSFJrWk9LMHRCT0doS05tMTJLMmNyVEN0R2EzVldNR3BzT0RWTE1qbEhOVzgwUlVSbFExaGlaRkZxUVRCeE9YTndVREV6UW1oaFNpczVabnBMWkVoalpXeERjSEp4TTAweVZWcDJOa3BZV1dOa1EzZFZMMGQxU0c1V01HMUVaVUkyZVhGd1J6RTNkREpvUjJ4U1dtaEZXR0pvY2xsemJFNDNRV0l4V0RNd1NETlNLMmRoVlRGclMwOTZUWHBvZFhjMWFrVjJVbTgzVmpJdk5XWXdSVEJMTlV4eFNVdDZWa3RQWjBGU1owaEJXRk0yY1RCUVptbFlRblYxVTJselZETnhialZQVm5wSlRsSk5VR2h3V21aSk1ETTJSREpGYVZoeFZ6WndOazl2UWxOYVNFeDBRblJxZGpWc09XbG1NVlIxYjJGd1kwOW5TVFJGYmtvMlNIWnJUa3h1V0cxSk4wVjNlRWhUZFhnNWJVUnpXVXczV2pSRlJHdEVhalptY0dnd1lYbzJOVmg1ZW01b01FVXJOU3Q0UVVsTFJ6WmhibGN3VGk5VmRuaFFPRWszTnpCR1QySk1SSEpYUW0wMmQzTXpWWEY2Wnk5TE1GZDVObFJIV2t0M1prdHhRbEJYUjFoSVRVOVFZVVJuYjNWV05XVkNjMHBFVDJoRGR6aDVjMVZxTVRGUFpsWk9TMWxLU0ZoNFZsRkxNMGgwT1ZCS1R6UjRjamRsT1dWTWRqWjBVMlkzWWxwU2JXdHBZWEZaWnlzMlNUWkpTM1J2YURSS1FsWmlWRXRLYUdnclJsSnNVQ3RoWVN0S1VGTlFTV1Y1VUdSME5ucENNR2RFUkRBNE15OU9UMWxtWlhselNqQTFkVlF4V1RsSFpHdGpaMkZzZFRBd1NqUjFVV1ZXV0VFdmR6MDk-\"><div id=\"name\">VidSrc PRO</div></div>\\n</div>\\n</div>\\n</div>\\n<div class=\"button_content\" id=\"subtitles\">\\n<div id=\"content\">\\n<div>Loading...</div>\\n</div>\\n</div>\\n<div class=\"button_content\" id=\"reporting\">\\n<div id=\"content\">\\n<div class=\"close\"><i class=\"fas fa-window-close\"></i></div>\\n<div id=\"title\">Select problem:</div>\\n<div id=\"list\">\\n<div data-id=\"1\">File not found.</div>\\n<div data-id=\"2\">Wrong video file.</div>\\n<div data-id=\"3\">Video doesn\\'t start.</div>\\n<div data-id=\"4\">Audio doesn\\'t match video.</div>\\n<div data-id=\"5\">Audio is not original language.</div>\\n</div>\\n<div id=\"report_submit\">Submit Report</div>\\n</div>\\n</div>\\n<script async=\"\" src=\"https://mc.yandex.ru/metrika/tag.js\"></script><script src=\"//cdnjs.cloudflare.com/ajax/libs/jquery/3.5.1/jquery.min.js\"></script>\\n<script src=\"//cdnjs.cloudflare.com/ajax/libs/blueimp-md5/2.16.0/js/md5.min.js\" integrity=\"\" crossorigin=\"anonymous\"></script>\\n<script src=\"https://cdnjs.cloudflare.com/ajax/libs/js-cookie/3.0.5/js.cookie.min.js\"></script>\\n<script src=\"https://cdnjs.cloudflare.com/ajax/libs/jquery-cookie/1.4.1/jquery.cookie.min.js\" integrity=\"sha512-3j3VU6WC5rPQB4Ld1jnLV7Kd5xr+cq9avvhwqzbH/taCRNURoeEpoPBK9pDyeukwSxwRPJ8fDgvYXd6SkaZ2TA==\" crossorigin=\"anonymous\" referrerpolicy=\"no-referrer\"></script>\\n<script src=\"/base64.js?t=1688387834\"></script>\\n<script src=\"/sources.js?t=1688387834\"></script>\\n<script src=\"/reporting.js?t=1688387834\"></script>\\n<script src=\"/sbx.js?t=1688387834\"></script>\\n<script>\\n    var lc_on = IsLcOn();\\n    \\n    var the_iframe = document.getElementById(\\'player_iframe\\');\\n    \\n    $(\"#player_iframe\").on(\"load\", function () {\\n        $(\"#the_frame\").attr(\"style\",\"background-image: none;\");\\n    });\\n    \\n    current_sub_name = \"sub_\"+$(\"body\").data(\"i\");\\n    if ($(\"body\").data(\"s\") && $(\"body\").data(\"e\")){\\n        current_sub_name += \"_\"+$(\"body\").data(\"s\")+\"x\"+$(\"body\").data(\"e\");\\n    }\\n    \\n    \\n    var lc_pro_cc = true;\\n    \\n    \\n    var current_sub_data = 0;\\n    \\n    if(lc_on){\\n        var current_sub_data_tmp = JSON.parse(localStorage.getItem(current_sub_name));\\n    }\\n    \\n    \\n    var sub_hash = \\'3929a0817a4f3afae8817d9f12da937a\\';\\n    /*\\n    if(current_sub_data_tmp != null){\\n        if (typeof current_sub_data_tmp === \\'object\\'){\\n            //console.log(current_sub_data_tmp);\\n            if(current_sub_data_tmp.sub_hash == sub_hash)\\n                current_sub_data = current_sub_data_tmp;\\n        }\\n    }\\n    */    \\n    \\n    window.addEventListener(\\'message\\', message => {\\n        \\n        if (message.source == window) {\\n            return; // Skip message in this event listener\\n        }\\n        \\n        \\n        var data = false;\\n        \\n        try {\\n            data = JSON.parse(message.data);\\n        } catch {\\n            data = false;\\n        }\\n        \\n        \\n        \\n        if(data){\\n            //console.log(data);\\n        \\n            if(data.name == \\'video_ad\\'){\\n                var imp_value = $.cookie(data.video_ad_imp_key);\\n                \\n                \\n                \\n            \\n                if (imp_value == null){\\n                    imp_value = \"\";\\n                }\\n                \\n                if(imp_value.length == 0){\\n                    imp_count = 1;\\n                }else{\\n                    imp_count = parseInt(imp_value)+1;\\n                }\\n                \\n                $.cookie(\"video_ad_imp_key\", data.video_ad_imp_key , \\n                    { \\n                        expires : 0.05, \\n                        path: \"/;SameSite=None\", \\n                        secure: true\\n                    }\\n                );\\n                \\n                \\n                $.cookie(data.video_ad_imp_key, imp_count , \\n                    { \\n                        expires : 0.05, \\n                        path: \"/;SameSite=None\", \\n                        secure: true\\n                    }\\n                );\\n                \\n                \\n            }\\n            \\n            \\n            /*\\n            if(data.name == \\'pro_player_data\\'){\\n                if(Object.keys(subs).length > 0)\\n                    $(\"#cc\").removeClass(\"button_inactive\");\\n                \\n                if(current_sub_data != 0){\\n                    if(data.sub_data.sub_hash == current_sub_data.sub_hash && data.sub_data.url != current_sub_data.url){\\n                        //console.log(data.sub_data);\\n                        //console.log(current_sub_data);\\n                        var pm_json = JSON.stringify(current_sub_data);\\n                        message.source.postMessage(pm_json,\\'*\\');\\n                    }\\n                }\\n            }\\n            */\\n        }\\n    });\\n    \\n    function IsLcOn(){\\n        var is_on = false;\\n        try {\\n            localStorage.setItem(\\'test_lc\\' , \"1\");\\n            if(localStorage.getItem(\\'test_lc\\') == \"1\"){\\n                is_on = true\\n            }\\n        }\\n        catch(err) {\\n            return false;\\n        }\\n        \\n        return is_on;\\n    }\\n    \\n    $(\"#iFrameId\").on(\"load\", function () {\\n        \\n    });\\n    \\n    $(\"#ad720 #close\").click(function(){\\n        $(this).parent().parent().hide();\\n        $.cookie(\"ad720\", \"1\" , \\n            { \\n                expires : 0.001, \\n                path: \"/;SameSite=None\", \\n                secure: true\\n            }\\n        );\\n        \\n    });\\n    \\n    $(document).ready(function(){\\n        if(window.frameElement === null){\\n            $(\"#top_buttons_parent\").show();\\n        }else{\\n            var ref = window.frameElement.getAttribute(\\'data-ref\\');\\n            if(ref != null){\\n                if(ref.length > 3){\\n                    $.get(\"/is_vip_str.php?ref=\"+encodeURIComponent(ref), function(data, status){\\n                        if(data == \"1\"){\\n                            $(\"#top_buttons_parent\").hide();\\n                        }else{\\n                            $(\"#top_buttons_parent\").show();\\n                        }\\n                    });\\n                }else{\\n                    $(\"#top_buttons_parent\").show();\\n                }\\n            }else{\\n                $(\"#top_buttons_parent\").show();\\n            }\\n        }\\n    });\\n    \\n\\n</script>\\n<script disable-devtool-auto=\"\" src=\"https://v2.vidsrc.me/disable-devtool@0.3.6/disable-devtool.min.js#/misdir.js\"></script>\\n<script async=\"\" src=\"https://www.googletagmanager.com/gtag/js?id=UA-162505078-3\"></script>\\n<script>\\n  window.dataLayer = window.dataLayer || [];\\n  function gtag(){dataLayer.push(arguments);}\\n  gtag(\\'js\\', new Date());\\n\\n  gtag(\\'config\\', \\'UA-162505078-3\\');\\n</script>\\n\\n<script type=\"text/javascript\">\\n   (function(m,e,t,r,i,k,a){m[i]=m[i]||function(){(m[i].a=m[i].a||[]).push(arguments)};\\n   m[i].l=1*new Date();\\n   for (var j = 0; j < document.scripts.length; j++) {if (document.scripts[j].src === r) { return; }}\\n   k=e.createElement(t),a=e.getElementsByTagName(t)[0],k.async=1,k.src=r,a.parentNode.insertBefore(k,a)})\\n   (window, document, \"script\", \"https://mc.yandex.ru/metrika/tag.js\", \"ym\");\\n\\n   ym(94195103, \"init\", {\\n        clickmap:true,\\n        trackLinks:true,\\n        accurateTrackBounce:true\\n   });\\n</script>\\n<noscript><div><img src=\"https://mc.yandex.ru/watch/94195103\" style=\"position:absolute; left:-9999px;\" alt=\"\" /></div></noscript>\\n\\n<div id=\"histats_counter\"><div id=\"histats_counter_2223\" style=\"display: block;\"><a href=\"http://www.histats.com/viewstats/?sid=4749365&amp;ccid=511\" target=\"_blank\"><canvas id=\"histats_counter_2223_canvas\" width=\"98\" height=\"19\"></canvas></a></div></div>\\n\\n<script type=\"text/javascript\">var _Hasync= _Hasync|| [];\\n_Hasync.push([\\'Histats.start\\', \\'1,4749365,4,511,95,18,00000000\\']);\\n_Hasync.push([\\'Histats.fasi\\', \\'1\\']);\\n_Hasync.push([\\'Histats.track_hits\\', \\'\\']);\\n(function() {\\nvar hs = document.createElement(\\'script\\'); hs.type = \\'text/javascript\\'; hs.async = true;\\nhs.src = (\\'//s10.histats.com/js15_as.js\\');\\n(document.getElementsByTagName(\\'head\\')[0] || document.getElementsByTagName(\\'body\\')[0]).appendChild(hs);\\n})();</script>\\n<noscript><a href=\"/\" target=\"_blank\"><img  src=\"//sstatic1.histats.com/0.gif?4749365&101\" alt=\"counter hit make\" border=\"0\"></a></noscript>\\n\\n\\n\\n\\n\\n<script async=\"\" type=\"text/javascript\" src=\"https://s4.histats.com/stats/0.php?4749365&amp;@f16&amp;@g0&amp;@h2&amp;@i1&amp;@j1689335972986&amp;@k5404&amp;@l2&amp;@mFast%20X&amp;@n0&amp;@o1000&amp;@q0&amp;@r0&amp;@s511&amp;@ten-US&amp;@u1680&amp;@b1:192558845&amp;@b3:1689335973&amp;@b4:js15_as.js&amp;@b5:300&amp;@a-_0.2.1&amp;@vhttps%3A%2F%2Fvidsrc.me%2Fembed%2Ftt5433140%2F&amp;@w\"></script><script async=\"\" type=\"text/javascript\" src=\"https://s10.histats.com/counters/cc_511.js\"></script><iframe src=\"https://t.dtscout.com/idg/?su=104016893359746B9EC3E6138FD89099\" width=\"0\" height=\"0\" style=\"display: none;\"></iframe><script src=\"https://get.s-onetag.com/f0c84061-4182-4398-8e37-5ff5b5698a6f/tag.min.js\" async=\"\" defer=\"\"></script><img src=\"https://pixel.onaudience.com/?partner=137085098&amp;mapped=104016893359746B9EC3E6138FD89099\" width=\"1\" height=\"1\" border=\"0\" style=\"display: none;\"><script async=\"\" src=\"https://t.dtscdn.com/widget/?d=104016893359746B9EC3E6138FD89099&amp;nid=300&amp;p=0&amp;t=-300&amp;s=1680x1050x30&amp;u=https%3A%2F%2Fvidsrc.me%2Fembed%2Ftt5433140%2F&amp;r=\"></script><img src=\"https://um.simpli.fi/lj_match?r=62696\"><img src=\"https://i.liadm.com/s/57333?bidder_id=204553&amp;bidder_uuid=G-qPrSZHB3Sv7oWtROiWPjKE&amp;rnd=72414\"><iframe src=\"https://get.s-onetag.com/underground-sync-portal/Portal.html\" title=\"sovrn-sync-beacon-portal\" style=\"width: 1px; height: 1px; position: absolute; left: -99px; top: -99px;\"></iframe></body></html>'"
      ]
     },
     "execution_count": 7,
     "metadata": {},
     "output_type": "execute_result"
    }
   ],
   "source": [
    "driver.page_source"
   ]
  },
  {
   "cell_type": "code",
   "execution_count": 12,
   "id": "4723a410",
   "metadata": {},
   "outputs": [],
   "source": [
    "logs = driver.get_log('performance')\n",
    "\n",
    "# Process network logs\n",
    "for entry in logs:\n",
    "    # You can filter and process the logs based on your requirements\n",
    "    # For example, you can look for \"Network.requestWillBeSent\" messages\n",
    "    print(entry['message'])\n"
   ]
  },
  {
   "cell_type": "code",
   "execution_count": 14,
   "id": "55459a0a",
   "metadata": {},
   "outputs": [
    {
     "data": {
      "text/plain": [
       "[]"
      ]
     },
     "execution_count": 14,
     "metadata": {},
     "output_type": "execute_result"
    }
   ],
   "source": [
    "driver.find_element_by_id('someElement').click()"
   ]
  },
  {
   "cell_type": "code",
   "execution_count": 4,
   "id": "575d5412",
   "metadata": {},
   "outputs": [
    {
     "ename": "AttributeError",
     "evalue": "'WebDriver' object has no attribute 'find_element_by_id'",
     "output_type": "error",
     "traceback": [
      "\u001b[0;31m---------------------------------------------------------------------------\u001b[0m",
      "\u001b[0;31mAttributeError\u001b[0m                            Traceback (most recent call last)",
      "Cell \u001b[0;32mIn[4], line 2\u001b[0m\n\u001b[1;32m      1\u001b[0m \u001b[38;5;66;03m# Find the element that contains the stream URL\u001b[39;00m\n\u001b[0;32m----> 2\u001b[0m stream_element \u001b[38;5;241m=\u001b[39m \u001b[43mdriver\u001b[49m\u001b[38;5;241;43m.\u001b[39;49m\u001b[43mfind_element_by_id\u001b[49m(\u001b[38;5;124m\"\u001b[39m\u001b[38;5;124mstream-url\u001b[39m\u001b[38;5;124m\"\u001b[39m)  \u001b[38;5;66;03m# Replace \"stream-url\" with the actual element ID\u001b[39;00m\n\u001b[1;32m      4\u001b[0m \u001b[38;5;66;03m# Extract the stream URL from the element\u001b[39;00m\n\u001b[1;32m      5\u001b[0m stream_url \u001b[38;5;241m=\u001b[39m stream_element\u001b[38;5;241m.\u001b[39mget_attribute(\u001b[38;5;124m\"\u001b[39m\u001b[38;5;124msrc\u001b[39m\u001b[38;5;124m\"\u001b[39m)  \u001b[38;5;66;03m# Replace \"src\" with the appropriate attribute containing the URL\u001b[39;00m\n",
      "\u001b[0;31mAttributeError\u001b[0m: 'WebDriver' object has no attribute 'find_element_by_id'"
     ]
    }
   ],
   "source": [
    "# Find the element that contains the stream URL\n",
    "stream_element = driver.find_element_by_id(\"stream-url\")  # Replace \"stream-url\" with the actual element ID\n",
    "\n",
    "# Extract the stream URL from the element\n",
    "stream_url = stream_element.get_attribute(\"src\")  # Replace \"src\" with the appropriate attribute containing the URL\n",
    "\n",
    "# Print or store the stream URL\n",
    "print(\"Stream URL:\", stream_url)"
   ]
  },
  {
   "cell_type": "code",
   "execution_count": 8,
   "id": "c2a6da1e",
   "metadata": {},
   "outputs": [],
   "source": [
    "driver.get(\"https://vidsrc.me/embed/tt5433140/\")"
   ]
  },
  {
   "cell_type": "code",
   "execution_count": 9,
   "id": "7a55e8d8",
   "metadata": {},
   "outputs": [
    {
     "ename": "NameError",
     "evalue": "name 'Options' is not defined",
     "output_type": "error",
     "traceback": [
      "\u001b[0;31m---------------------------------------------------------------------------\u001b[0m",
      "\u001b[0;31mNameError\u001b[0m                                 Traceback (most recent call last)",
      "Cell \u001b[0;32mIn[9], line 1\u001b[0m\n\u001b[0;32m----> 1\u001b[0m chrome_options \u001b[38;5;241m=\u001b[39m \u001b[43mOptions\u001b[49m()\n\u001b[1;32m      2\u001b[0m chrome_options\u001b[38;5;241m.\u001b[39madd_argument(\u001b[38;5;124m\"\u001b[39m\u001b[38;5;124m--disable-javascript\u001b[39m\u001b[38;5;124m\"\u001b[39m)  \u001b[38;5;66;03m# Disable JavaScript execution\u001b[39;00m\n",
      "\u001b[0;31mNameError\u001b[0m: name 'Options' is not defined"
     ]
    }
   ],
   "source": [
    "chrome_options = Options()\n",
    "chrome_options.add_argument(\"--disable-javascript\")  # Disable JavaScript execution\n"
   ]
  },
  {
   "cell_type": "code",
   "execution_count": 5,
   "id": "de29e282",
   "metadata": {},
   "outputs": [],
   "source": [
    "driver.quit()\n"
   ]
  },
  {
   "cell_type": "code",
   "execution_count": null,
   "id": "d639db4e",
   "metadata": {},
   "outputs": [],
   "source": []
  }
 ],
 "metadata": {
  "kernelspec": {
   "display_name": "Python 3 (ipykernel)",
   "language": "python",
   "name": "python3"
  },
  "language_info": {
   "codemirror_mode": {
    "name": "ipython",
    "version": 3
   },
   "file_extension": ".py",
   "mimetype": "text/x-python",
   "name": "python",
   "nbconvert_exporter": "python",
   "pygments_lexer": "ipython3",
   "version": "3.9.6"
  }
 },
 "nbformat": 4,
 "nbformat_minor": 5
}
